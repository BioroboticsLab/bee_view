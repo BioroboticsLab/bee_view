{
 "cells": [
  {
   "cell_type": "code",
   "execution_count": null,
   "metadata": {},
   "outputs": [],
   "source": [
    "# %load example_beeview_api\n",
    "% matplotlib inline\n",
    "import beeview\n",
    "from PIL import Image\n",
    "import matplotlib.pyplot as plt\n",
    "import numpy as np\n"
   ]
  },
  {
   "cell_type": "code",
   "execution_count": null,
   "metadata": {},
   "outputs": [],
   "source": [
    "# an example scene and interommatidial angles file are in the data folder\n",
    "renderer = beeview.Renderer(\"..\\..\\data\\hessen_2016\\scene.obj\",\n",
    "                            \"..\\..\\data\\ommatidia.csv\",left_handed = True)\n",
    "\n",
    "# change some render parameters\n",
    "renderer.set_num_samples(30)\n",
    "renderer.set_acceptance_angle(2.6)\n",
    "renderer.set_ommatidium_size(1)\n",
    "\n",
    "bounds = renderer.get_scene_bounds()"
   ]
  },
  {
   "cell_type": "code",
   "execution_count": null,
   "metadata": {},
   "outputs": [],
   "source": [
    "print(bounds)\n",
    "\n",
    "width = bounds[1][0] - bounds[0][0]\n",
    "height = bounds[1][2] - bounds[0][2]\n",
    "\n",
    "center_x = bounds[0][0] + width / 2\n",
    "center_y = bounds[0][2] + height / 2\n",
    "\n",
    "print(center_x, center_y)"
   ]
  },
  {
   "cell_type": "code",
   "execution_count": null,
   "metadata": {},
   "outputs": [],
   "source": [
    "import sys"
   ]
  },
  {
   "cell_type": "code",
   "execution_count": null,
   "metadata": {},
   "outputs": [],
   "source": [
    "height = 10\n",
    "\n",
    "i = 0\n",
    "while True:\n",
    "    x = np.random.uniform(center_x - 1000, center_x + 1000)\n",
    "    y = np.random.uniform(center_y - 1000, center_y + 1000)\n",
    "    \n",
    "    z_max = bounds[1][1]\n",
    "    h_dome = renderer.measure_distance([x, z_max, y], [0, -1, 0])\n",
    "    h = renderer.measure_distance([x, z_max - h_dome - 1, y], [0, -1, 0])\n",
    "    \n",
    "    if h < 0:\n",
    "        continue\n",
    "        \n",
    "    i += 1\n",
    "    \n",
    "    ground_level = z_max - h_dome - h - 1\n",
    "    z = ground_level + np.clip(np.random.normal(height, 10), 1, np.inf)\n",
    "    \n",
    "    position = [x, z, y]\n",
    "    \n",
    "    renderer.position = position\n",
    "    renderer.direction = [np.random.uniform(-1, 1), np.random.normal(0, 0.05), np.random.uniform(-1, 1)]\n",
    "    img = renderer.render()\n",
    "    \n",
    "    #t.imshow(img)\n",
    "\n",
    "    # save the image\n",
    "    img = Image.fromarray(img)\n",
    "    img.save(\"D:/beeview_images/{}.png\".format(i))\n",
    "    \n",
    "    sys.stdout.write(\"\\r {}\".format(i))"
   ]
  },
  {
   "cell_type": "code",
   "execution_count": null,
   "metadata": {},
   "outputs": [],
   "source": [
    "x, y"
   ]
  },
  {
   "cell_type": "code",
   "execution_count": null,
   "metadata": {},
   "outputs": [],
   "source": [
    "%%timeit\n",
    "renderer.mode = renderer.BeeEye\n",
    "renderer.set_num_samples(26)\n",
    "\n",
    "img = renderer.render()\n",
    "plt.imshow(img)\n",
    "plt.show()"
   ]
  },
  {
   "cell_type": "code",
   "execution_count": null,
   "metadata": {},
   "outputs": [],
   "source": [
    "import sys\n",
    "sys.path.append('D:\\Dropbox\\FUB\\PROJECTS\\BeeViews\\bee_view_src\\lib')\n",
    "sys.path\n"
   ]
  },
  {
   "cell_type": "code",
   "execution_count": null,
   "metadata": {},
   "outputs": [],
   "source": []
  }
 ],
 "metadata": {
  "kernelspec": {
   "display_name": "Python 3",
   "language": "python",
   "name": "python3"
  },
  "language_info": {
   "codemirror_mode": {
    "name": "ipython",
    "version": 3
   },
   "file_extension": ".py",
   "mimetype": "text/x-python",
   "name": "python",
   "nbconvert_exporter": "python",
   "pygments_lexer": "ipython3",
   "version": "3.6.5"
  }
 },
 "nbformat": 4,
 "nbformat_minor": 2
}
