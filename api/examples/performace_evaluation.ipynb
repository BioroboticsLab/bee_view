{
 "cells": [
  {
   "cell_type": "code",
   "execution_count": null,
   "metadata": {},
   "outputs": [],
   "source": [
    "import beeview\n",
    "import numpy as np\n",
    "\n",
    "def my_function():\n",
    "    renderer.render()\n",
    "    \n",
    "if __name__ == \"__main__\":\n",
    "    \n",
    "    import timeit\n",
    "    setup = \"from __main__ import my_function\"\n",
    "    name_pc = \"jo_laptop\"\n",
    "    \n",
    "    number = 5\n",
    "\n",
    "    # first with small scene\n",
    "    renderer = beeview.Renderer(\"test_scene.obj\", \"../../data/ommatidia.csv\", False)\n",
    "    renderer.position = [0,0,0.5] #50 cm from image\n",
    "    \n",
    "    # different sample sizes\n",
    "    n_samples = [12,30,56,90,132,182,240,306,380,462,552]\n",
    "\n",
    "    times1 = []\n",
    "    for n in n_samples:\n",
    "\n",
    "        renderer.set_num_samples(n)\n",
    "        times1.append(timeit.timeit(\"my_function()\", setup=setup, number=number)/number)\n",
    "     \n",
    "    \n",
    "    renderer = beeview.Renderer(\"../../../radartrack_analysis_python/data/scenes/hessen_2016/scene.obj\",\n",
    "                            \"../../../radartrack_analysis_python/data/ommatidia/ommatidia.csv\",True)\n",
    "\n",
    "    # render and plot a beeview\n",
    "    renderer.position = [0,-80,0]\n",
    "    renderer.direction = [0,0,-1]\n",
    "    \n",
    "    times2 = []\n",
    "    for n in n_samples:\n",
    "        renderer.set_num_samples(n)\n",
    "        times2.append(timeit.timeit(\"my_function()\", setup=setup, number=number)/number)\n",
    "    \n",
    "np.savetxt(name_pc+\"3.txt\",np.asarray([times1, times2]).T,delimiter=\",\")"
   ]
  },
  {
   "cell_type": "code",
   "execution_count": null,
   "metadata": {},
   "outputs": [],
   "source": [
    "%matplotlib inline\n",
    "from matplotlib import pyplot as plt\n",
    "\n",
    "times = np.genfromtxt('jo_laptop.txt', delimiter=',')\n",
    "\n",
    "plt.plot(times[:,0])\n",
    "plt.plot(times[:,1])"
   ]
  },
  {
   "cell_type": "code",
   "execution_count": null,
   "metadata": {},
   "outputs": [],
   "source": [
    "times_tim = np.genfromtxt('tim_desktop.txt')\n",
    "plt.plot(times_tim[:11])\n",
    "plt.plot(times_tim[11:])"
   ]
  },
  {
   "cell_type": "code",
   "execution_count": null,
   "metadata": {},
   "outputs": [],
   "source": []
  }
 ],
 "metadata": {
  "kernelspec": {
   "display_name": "Python 3",
   "language": "python",
   "name": "python3"
  },
  "language_info": {
   "codemirror_mode": {
    "name": "ipython",
    "version": 3
   },
   "file_extension": ".py",
   "mimetype": "text/x-python",
   "name": "python",
   "nbconvert_exporter": "python",
   "pygments_lexer": "ipython3",
   "version": "3.6.5"
  }
 },
 "nbformat": 4,
 "nbformat_minor": 2
}
