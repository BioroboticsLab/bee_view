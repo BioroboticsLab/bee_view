{
 "cells": [
  {
   "cell_type": "code",
   "execution_count": null,
   "metadata": {},
   "outputs": [],
   "source": [
    "import beeview\n",
    "import time\n",
    "import numpy as np"
   ]
  },
  {
   "cell_type": "code",
   "execution_count": null,
   "metadata": {},
   "outputs": [],
   "source": [
    "# first with small scene\n",
    "renderer = beeview.Renderer(\"test_scene.obj\", \"../../data/ommatidia.csv\", False)\n",
    "renderer.position = [0,0,0.5] #50 cm from image"
   ]
  },
  {
   "cell_type": "code",
   "execution_count": null,
   "metadata": {},
   "outputs": [],
   "source": [
    "name_pc = \"jo_laptop\"\n",
    "\n",
    "# different sample sizes\n",
    "n_samples = [12,30,56,90,132,182,240,306,380,462,552]\n",
    "\n",
    "times = []\n",
    "for n in n_samples:\n",
    "    \n",
    "    renderer.set_num_samples(n)\n",
    "    time1 = time.time()\n",
    "    renderer.render()\n",
    "    time2 = time.time()\n",
    "    times.append(time2-time1)\n",
    "times  "
   ]
  },
  {
   "cell_type": "code",
   "execution_count": null,
   "metadata": {},
   "outputs": [],
   "source": [
    "renderer = beeview.Renderer(\"../../../radartrack_analysis_python/data/scenes/hessen_2016/scene.obj\",\n",
    "                            \"../../../radartrack_analysis_python/data/ommatidia/ommatidia.csv\",True)\n",
    "\n",
    "# render and plot a beeview\n",
    "renderer.position = [0,-80,0]\n",
    "renderer.direction = [0,0,-1]"
   ]
  },
  {
   "cell_type": "code",
   "execution_count": null,
   "metadata": {},
   "outputs": [],
   "source": [
    "# different sample sizes\n",
    "n_samples = [12,30,56,90,132,182,240,306,380,462,552]\n",
    "\n",
    "times2 = []\n",
    "for n in n_samples:\n",
    "    renderer.set_num_samples(n)\n",
    "    time1 = time.time()\n",
    "    renderer.render()\n",
    "    time2 = time.time()\n",
    "    times.append(time2-time1)\n",
    "times2"
   ]
  },
  {
   "cell_type": "code",
   "execution_count": null,
   "metadata": {},
   "outputs": [],
   "source": []
  },
  {
   "cell_type": "code",
   "execution_count": null,
   "metadata": {},
   "outputs": [],
   "source": [
    "np.savetxt(name_pc,times)"
   ]
  }
 ],
 "metadata": {
  "kernelspec": {
   "display_name": "Python 3",
   "language": "python",
   "name": "python3"
  },
  "language_info": {
   "codemirror_mode": {
    "name": "ipython",
    "version": 3
   },
   "file_extension": ".py",
   "mimetype": "text/x-python",
   "name": "python",
   "nbconvert_exporter": "python",
   "pygments_lexer": "ipython3",
   "version": "3.6.5"
  }
 },
 "nbformat": 4,
 "nbformat_minor": 2
}
