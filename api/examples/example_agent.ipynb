{
 "cells": [
  {
   "cell_type": "code",
   "execution_count": null,
   "metadata": {},
   "outputs": [],
   "source": [
    "# %load example_agent\n",
    "\"\"\"\n",
    "This Notebook shows some examples that can be useful for a neural agent.\n",
    "\"\"\"\n",
    "\n",
    "% matplotlib inline\n",
    "\n",
    "import beeview\n",
    "import numpy as np\n",
    "from PIL import Image\n",
    "import matplotlib.pyplot as plt"
   ]
  },
  {
   "cell_type": "code",
   "execution_count": null,
   "metadata": {},
   "outputs": [],
   "source": [
    "renderer = beeview.Renderer(\"../../data/hessen_2016/scene.obj\",\n",
    "                            \"../../data/ommatidia.csv\",True)"
   ]
  },
  {
   "cell_type": "code",
   "execution_count": null,
   "metadata": {},
   "outputs": [],
   "source": [
    "# render and plot a beeview\n",
    "renderer.set_num_samples(1)\n",
    "renderer.position = [0,-80,0]\n",
    "renderer.direction = [0,0,-1]"
   ]
  },
  {
   "cell_type": "code",
   "execution_count": null,
   "metadata": {},
   "outputs": [],
   "source": [
    "img = renderer.render()\n",
    "plt.imshow(img)\n",
    "plt.show()"
   ]
  },
  {
   "cell_type": "code",
   "execution_count": null,
   "metadata": {},
   "outputs": [],
   "source": [
    "# render panoramic image as flat array with agent function\n",
    "renderer.mode = renderer.Panoramic\n",
    "pano = renderer.render_agent()\n",
    "print(pano.shape)\n",
    "\n",
    "# reshape the array for display and plot\n",
    "img = pano.reshape(renderer.get_image_size()[1],renderer.get_image_size()[0],3)\n",
    "plt.imshow(img)\n",
    "plt.show()"
   ]
  },
  {
   "cell_type": "code",
   "execution_count": null,
   "metadata": {},
   "outputs": [],
   "source": [
    "# back to bee eye mode\n",
    "renderer.mode = renderer.BeeEye\n",
    "renderer.set_ommatidium_size(2)\n",
    "# bee_eye_data is a tuple with data for left and right eye \n",
    "bee_eye_data = renderer.render_agent()\n",
    "\n",
    "left_eye = bee_eye_data[\"left\"]\n",
    "right_eye = bee_eye_data[\"right\"]"
   ]
  },
  {
   "cell_type": "code",
   "execution_count": null,
   "metadata": {},
   "outputs": [],
   "source": [
    "# print data for first 20 ommatidia of left eye\n",
    "row_format =\"{:>20}{:>20}{:>50}{:>30}\"\n",
    "print(row_format.format(*[\"elevation\",\"azimuth\",\"color\",\"coordinates\"]))\n",
    "for i in range(0,20):\n",
    "    print(row_format.format(*[str(left_eye[\"azimuth\"][i]),str(left_eye[\"elevation\"][i]),str(left_eye[\"color\"][i]), str(left_eye[\"coordinates\"][i])]))"
   ]
  },
  {
   "cell_type": "code",
   "execution_count": null,
   "metadata": {},
   "outputs": [],
   "source": [
    "# measure distance to next object in down direction\n",
    "height = renderer.measure_distance(renderer.position,[0,-1,0])\n",
    "print(\"Current height: \" + str(height))\n",
    "\n",
    "# set position to be 5m above ground\n",
    "renderer.position = [renderer.position[0], renderer.position[1] - height + 5, renderer.position[2]]\n",
    "print(\"New height: \" + str(renderer.measure_distance(renderer.position,[0,-1,0])))\n",
    "\n",
    "# move agent 1 m to right and 1 m forward and set direction to moving direction\n",
    "old_pos = renderer.position\n",
    "renderer.position = [renderer.position[0]+1, renderer.position[1], renderer.position[2]+1]\n",
    "\n",
    "renderer.direction = np.array(old_pos) - np.array(renderer.position)\n",
    "\n",
    "img = renderer.render()\n",
    "plt.imshow(img)\n",
    "plt.show()"
   ]
  },
  {
   "cell_type": "code",
   "execution_count": null,
   "metadata": {},
   "outputs": [],
   "source": []
  }
 ],
 "metadata": {
  "kernelspec": {
   "display_name": "Python 3",
   "language": "python",
   "name": "python3"
  },
  "language_info": {
   "codemirror_mode": {
    "name": "ipython",
    "version": 3
   },
   "file_extension": ".py",
   "mimetype": "text/x-python",
   "name": "python",
   "nbconvert_exporter": "python",
   "pygments_lexer": "ipython3",
   "version": "3.6.2"
  },
  "varInspector": {
   "cols": {
    "lenName": 16,
    "lenType": 16,
    "lenVar": 40
   },
   "kernels_config": {
    "python": {
     "delete_cmd_postfix": "",
     "delete_cmd_prefix": "del ",
     "library": "var_list.py",
     "varRefreshCmd": "print(var_dic_list())"
    },
    "r": {
     "delete_cmd_postfix": ") ",
     "delete_cmd_prefix": "rm(",
     "library": "var_list.r",
     "varRefreshCmd": "cat(var_dic_list()) "
    }
   },
   "types_to_exclude": [
    "module",
    "function",
    "builtin_function_or_method",
    "instance",
    "_Feature"
   ],
   "window_display": false
  }
 },
 "nbformat": 4,
 "nbformat_minor": 2
}
