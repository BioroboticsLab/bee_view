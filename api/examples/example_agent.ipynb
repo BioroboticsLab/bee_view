{
 "cells": [
  {
   "cell_type": "code",
   "execution_count": null,
   "metadata": {},
   "outputs": [],
   "source": [
    "# %load example_agent\n",
    "\"\"\"\n",
    "This Notebook shows som examples that can be useful for a neural agent.\n",
    "\"\"\"\n",
    "\n",
    "% matplotlib inline\n",
    "\n",
    "import beeview\n",
    "import numpy as np\n",
    "from PIL import Image\n",
    "import matplotlib.pyplot as plt"
   ]
  },
  {
   "cell_type": "code",
   "execution_count": null,
   "metadata": {},
   "outputs": [],
   "source": [
    "renderer = beeview.Renderer(\"..\\\\..\\\\data\\\\hessen_2016\\\\scene.obj\",\n",
    "                            \"..\\\\..\\\\data\\\\ommatidia.csv\",True)"
   ]
  },
  {
   "cell_type": "code",
   "execution_count": null,
   "metadata": {},
   "outputs": [],
   "source": [
    "# render and plot a beeview\n",
    "renderer.position = [0,-80,0]\n",
    "renderer.direction = [0,0,-1]\n",
    "img = renderer.render()\n",
    "plt.imshow(img)\n",
    "plt.show()"
   ]
  },
  {
   "cell_type": "code",
   "execution_count": null,
   "metadata": {},
   "outputs": [],
   "source": [
    "# render panoramic image as flat array with agent function\n",
    "renderer.mode = renderer.Panoramic\n",
    "pano = renderer.render_agent()\n",
    "print(pano.shape)\n",
    "\n",
    "# reshape the array for display and plot\n",
    "img = pano.reshape(renderer.get_image_size()[1],renderer.get_image_size()[0],3)\n",
    "plt.imshow(img)\n",
    "plt.show()"
   ]
  },
  {
   "cell_type": "code",
   "execution_count": null,
   "metadata": {},
   "outputs": [],
   "source": [
    "# back to bee eye mode\n",
    "renderer.mode = renderer.BeeEye\n",
    "renderer.set_ommatidium_size(2)\n",
    "# bee_eye_data is a tuple with data for left and right eye \n",
    "bee_eye_data = renderer.render_agent()\n",
    "\n",
    "left_eye = bee_eye_data[\"left\"]\n",
    "right_eye = bee_eye_data[\"right\"]"
   ]
  },
  {
   "cell_type": "code",
   "execution_count": null,
   "metadata": {},
   "outputs": [],
   "source": []
  },
  {
   "cell_type": "code",
   "execution_count": null,
   "metadata": {},
   "outputs": [],
   "source": [
    "a_min"
   ]
  },
  {
   "cell_type": "code",
   "execution_count": null,
   "metadata": {},
   "outputs": [],
   "source": [
    "# radial to cartesian\n",
    "\n",
    "import math\n",
    "\n",
    "def radial2cartesian(e,a):\n",
    "    if a < 0:\n",
    "        a = 360 + a\n",
    "    e = 90 + e\n",
    "    a = math.radians(a)\n",
    "    e = math.radians(e)\n",
    "    return np.array([math.sin(e)*math.cos(a), math.sin(e)*math.sin(a), math.cos(e)])"
   ]
  },
  {
   "cell_type": "code",
   "execution_count": null,
   "metadata": {},
   "outputs": [],
   "source": [
    "def beeview_xyz(bee_eye_data, offset = 0):\n",
    "    x_max = np.max(bee_eye_data[\"right\"][\"coordinates\"][:,0])\n",
    "    y_max = np.max(bee_eye_data[\"right\"][\"coordinates\"][:,1])\n",
    "    e_max = np.max([bee_eye_data[\"left\"][\"elevation\"],bee_eye_data[\"right\"][\"elevation\"]])\n",
    "    e_min = np.min([bee_eye_data[\"left\"][\"elevation\"],bee_eye_data[\"right\"][\"elevation\"]])\n",
    "    a_max = np.max([bee_eye_data[\"left\"][\"azimuth\"],bee_eye_data[\"right\"][\"azimuth\"]])\n",
    "    a_min = np.min([bee_eye_data[\"left\"][\"azimuth\"],bee_eye_data[\"right\"][\"azimuth\"]])\n",
    "    \n",
    "    img = np.zeros((int(y_max)+4,int(x_max)+4,3))\n",
    "\n",
    "    for eye in [bee_eye_data[\"left\"], bee_eye_data[\"right\"]]:\n",
    "        ommatidium = 0\n",
    "        for coordinate in eye[\"coordinates\"]:\n",
    "            coordinate = coordinate.astype(int)\n",
    "            for i in [0,1]:\n",
    "                x = radial2cartesian(eye[\"elevation\"][ommatidium], eye[\"azimuth\"][ommatidium])\n",
    "                #print(x)\n",
    "                r = x[1] + offset\n",
    "                g = x[2] + offset\n",
    "                b = x[0] + offset\n",
    "                \n",
    "                for j in [0,1]:\n",
    "                    img[coordinate[1]+i,coordinate[0]+j,0] = r\n",
    "                    img[coordinate[1]+i,coordinate[0]+j,1] = g\n",
    "                    img[coordinate[1]+i,coordinate[0]+j,2] = b\n",
    "            ommatidium += 1\n",
    "        \n",
    "    return img\n",
    "\n",
    "\n",
    "fig = plt.figure(figsize=(20, 6))\n",
    "plt.subplot(151)\n",
    "plt.imshow(beeview_xyz(bee_eye_data, offset=0))\n",
    "plt.axis('off')\n",
    "plt.title(r'$r=x$, $g=y$, $b=z$, offset=0')\n",
    "\n",
    "plt.subplot(152)\n",
    "plt.imshow(beeview_xyz(bee_eye_data, offset=0.25))\n",
    "plt.axis('off')\n",
    "plt.title(r'$r=x$, $g=y$, $b=z$, offset=0.25')\n",
    "\n",
    "plt.subplot(153)\n",
    "plt.imshow(beeview_xyz(bee_eye_data, offset=0.5))\n",
    "plt.axis('off')\n",
    "plt.title(r'$r=x$, $g=y$, $b=z$, offset=0.5')\n",
    "\n",
    "plt.subplot(154)\n",
    "plt.imshow(beeview_xyz(bee_eye_data, offset=0.75))\n",
    "plt.axis('off')\n",
    "plt.title(r'$r=x$, $g=y$, $b=z$, offset=0.75')\n",
    "\n",
    "plt.subplot(155)\n",
    "plt.imshow(beeview_xyz(bee_eye_data, offset=1))\n",
    "plt.axis('off')\n",
    "plt.title(r'$r=x$, $g=y$, $b=z$, offset=1')\n",
    "\n",
    "plt.show()\n",
    "\n",
    "\n",
    "plt.imshow(beeview_xyz(bee_eye_data, offset=0.5))\n",
    "plt.axis('off')\n",
    "plt.title(r'$r=x$, $g=y$, $b=z$, offset=0.5')\n",
    "plt.show()"
   ]
  },
  {
   "cell_type": "code",
   "execution_count": null,
   "metadata": {},
   "outputs": [],
   "source": [
    "def abs_degrees(e,a):\n",
    "    if e < 0:\n",
    "        e += 180\n",
    "    if a < 0:\n",
    "        a += 360"
   ]
  },
  {
   "cell_type": "code",
   "execution_count": null,
   "metadata": {},
   "outputs": [],
   "source": [
    "np.min(bee_eye_data[\"left\"][\"azimuth\"])\n",
    "np.min(bee_eye_data[\"left\"][\"elevation\"])"
   ]
  },
  {
   "cell_type": "code",
   "execution_count": null,
   "metadata": {},
   "outputs": [],
   "source": [
    "def normalize(x, x_min, x_max):\n",
    "    return (x - x_min) / (x_max - x_min)"
   ]
  },
  {
   "cell_type": "code",
   "execution_count": null,
   "metadata": {},
   "outputs": [],
   "source": [
    "def normalize2(x, x_min, x_max, new_min, new_max):\n",
    "    return (new_max-new_min)/(x_max-x_min)*(x-x_min)+new_min"
   ]
  },
  {
   "cell_type": "code",
   "execution_count": null,
   "metadata": {},
   "outputs": [],
   "source": [
    " \n",
    "    \n",
    "def beeview_uv(bee_eye_data,  y = 0):\n",
    "    \n",
    "    x_max = np.max(bee_eye_data[\"right\"][\"coordinates\"][:,0])\n",
    "    y_max = np.max(bee_eye_data[\"right\"][\"coordinates\"][:,1])\n",
    "    e_max = np.max([left_eye[\"elevation\"],right_eye[\"elevation\"]])\n",
    "    e_min = np.min([left_eye[\"elevation\"],right_eye[\"elevation\"]])\n",
    "    a_max = np.max([left_eye[\"azimuth\"],right_eye[\"azimuth\"]])\n",
    "    a_min = np.min([left_eye[\"azimuth\"],right_eye[\"azimuth\"]])\n",
    "    \n",
    "    img = np.zeros((int(y_max)+4,int(x_max)+4,3))\n",
    "\n",
    "    for eye in [bee_eye_data[\"left\"], bee_eye_data[\"right\"]]:\n",
    "        ommatidium = 0\n",
    "        for coordinate in eye[\"coordinates\"]:\n",
    "            coordinate = coordinate.astype(int)\n",
    "            for i in [0,1]:\n",
    "                v = normalize2(eye[\"elevation\"][ommatidium], e_min, e_max,-1,1)\n",
    "                u = normalize2(eye[\"azimuth\"][ommatidium], a_min, a_max,-1,1)\n",
    "\n",
    "                b = y + (u/0.493)\n",
    "                r = y + (v/0.877)\n",
    "                g = 1.704*y - 0.509*r - 0.194*b\n",
    "\n",
    "                for j in [0,1]:\n",
    "                    img[coordinate[1]+i,coordinate[0]+j,0] = r\n",
    "                    img[coordinate[1]+i,coordinate[0]+j,1] = g\n",
    "                    img[coordinate[1]+i,coordinate[0]+j,2] = b\n",
    "            ommatidium += 1\n",
    "        \n",
    "    return img\n",
    "\n",
    "fig = plt.figure(figsize=(20, 6))\n",
    "plt.subplot(151)\n",
    "plt.imshow(beeview_uv(bee_eye_data,y=0))\n",
    "plt.axis('off')\n",
    "plt.title(r'$Y=0$, $U=\\alpha$, $V=\\epsilon$')\n",
    "plt.subplot(152)\n",
    "plt.imshow(beeview_uv(bee_eye_data, y = 0.25))\n",
    "plt.title(r'$Y=0.25$, $U=\\alpha$, $V=\\epsilon$')\n",
    "plt.axis('off')\n",
    "plt.subplot(153)\n",
    "plt.imshow(beeview_uv(bee_eye_data, y= 0.5))\n",
    "plt.title(r'$Y=0.5$, $U=\\alpha$, $V=\\epsilon$')\n",
    "plt.axis('off')\n",
    "plt.subplot(154)\n",
    "plt.imshow(beeview_uv(bee_eye_data, y= 0.75))\n",
    "plt.title(r'$Y=0.75$, $U=\\alpha$, $V=\\epsilon$')\n",
    "plt.axis('off')\n",
    "\n",
    "plt.subplot(155)\n",
    "plt.imshow(beeview_uv(bee_eye_data, y= 1))\n",
    "plt.title(r'$Y=1$, $U=\\alpha$, $V=\\epsilon$')\n",
    "plt.axis('off')\n",
    "\n",
    "plt.show()"
   ]
  },
  {
   "cell_type": "code",
   "execution_count": null,
   "metadata": {},
   "outputs": [],
   "source": [
    "plt.imshow(beeview_uv(bee_eye_data, y= 0.5))\n",
    "plt.title(r'$Y=0.5$, $U=\\alpha$, $V=\\epsilon$')\n",
    "plt.axis('off')"
   ]
  },
  {
   "cell_type": "code",
   "execution_count": null,
   "metadata": {},
   "outputs": [],
   "source": [
    "\n",
    "ommatidium = 0\n",
    "for coordinate in right_eye[\"coordinates\"]:\n",
    "    coordinate = coordinate.astype(int)\n",
    "    for i in [0,1]:\n",
    "        for j in [0,1]:\n",
    "            img[coordinate[1]+i,coordinate[0]+j,0] = right_eye[\"color\"][ommatidium,0]\n",
    "            img[coordinate[1]+i,coordinate[0]+j,1] = right_eye[\"color\"][ommatidium,1]\n",
    "            img[coordinate[1]+i,coordinate[0]+j,2] = right_eye[\"color\"][ommatidium,2]\n",
    "    ommatidium += 1"
   ]
  },
  {
   "cell_type": "code",
   "execution_count": null,
   "metadata": {},
   "outputs": [],
   "source": []
  },
  {
   "cell_type": "code",
   "execution_count": null,
   "metadata": {},
   "outputs": [],
   "source": [
    "# print data for first 20 ommatidia of left eye\n",
    "row_format =\"{:>20}{:>20}{:>50}{:>30}\"\n",
    "print(row_format.format(*[\"elevation\",\"azimuth\",\"color\",\"coordinates\"]))\n",
    "for i in range(0,20):\n",
    "    print(row_format.format(*[str(left_eye[\"azimuth\"][i]),str(left_eye[\"elevation\"][i]),str(left_eye[\"color\"][i]), str(left_eye[\"coordinates\"][i])]))"
   ]
  },
  {
   "cell_type": "code",
   "execution_count": null,
   "metadata": {},
   "outputs": [],
   "source": [
    "# measure distance to next object in down direction\n",
    "height = renderer.measure_distance(renderer.position,[0,-1,0])\n",
    "print(\"Current height: \" + str(height))\n",
    "\n",
    "# set position to be 5m above ground\n",
    "renderer.position = [renderer.position[0], renderer.position[1] - height + 5, renderer.position[2]]\n",
    "print(\"New height: \" + str(renderer.measure_distance(renderer.position,[0,-1,0])))\n",
    "\n",
    "# move agent 1 m to right and 1 m forward and set direction to moving direction\n",
    "old_pos = renderer.position\n",
    "renderer.position = [renderer.position[0]+1, renderer.position[1], renderer.position[2]+1]\n",
    "\n",
    "renderer.direction = np.array(old_pos) - np.array(renderer.position)\n",
    "\n",
    "img = renderer.render()\n",
    "plt.imshow(img)\n",
    "plt.show()"
   ]
  },
  {
   "cell_type": "code",
   "execution_count": null,
   "metadata": {},
   "outputs": [],
   "source": []
  }
 ],
 "metadata": {
  "kernelspec": {
   "display_name": "Python 3",
   "language": "python",
   "name": "python3"
  },
  "language_info": {
   "codemirror_mode": {
    "name": "ipython",
    "version": 3
   },
   "file_extension": ".py",
   "mimetype": "text/x-python",
   "name": "python",
   "nbconvert_exporter": "python",
   "pygments_lexer": "ipython3",
   "version": "3.6.5"
  }
 },
 "nbformat": 4,
 "nbformat_minor": 2
}
