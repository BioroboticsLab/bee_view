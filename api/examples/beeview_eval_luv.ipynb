{
 "cells": [
  {
   "cell_type": "code",
   "execution_count": 8,
   "metadata": {
    "ExecuteTime": {
     "end_time": "2018-12-07T14:51:58.576912Z",
     "start_time": "2018-12-07T14:51:58.566749Z"
    },
    "collapsed": true
   },
   "outputs": [],
   "source": [
    "% matplotlib inline\n",
    "\n",
    "import beeview\n",
    "import numpy as np\n",
    "from PIL import Image\n",
    "import matplotlib.pyplot as plt\n",
    "import math"
   ]
  },
  {
   "cell_type": "code",
   "execution_count": 9,
   "metadata": {
    "ExecuteTime": {
     "end_time": "2018-12-07T14:52:10.252498Z",
     "start_time": "2018-12-07T14:51:59.263993Z"
    },
    "collapsed": true
   },
   "outputs": [],
   "source": [
    "renderer = beeview.Renderer(\"../../data/hessen_2016/scene.obj\",\n",
    "                            \"../../data/ommatidia.csv\",True)"
   ]
  },
  {
   "cell_type": "code",
   "execution_count": 3,
   "metadata": {
    "ExecuteTime": {
     "end_time": "2018-12-07T14:45:21.275990Z",
     "start_time": "2018-12-07T14:45:21.253968Z"
    },
    "collapsed": true
   },
   "outputs": [],
   "source": [
    "renderer.mode = renderer.BeeEye\n",
    "renderer.set_ommatidium_size(2)\n",
    "bee_eye_data = renderer.render_agent()\n",
    "left_eye = bee_eye_data[\"left\"]\n",
    "right_eye = bee_eye_data[\"right\"]"
   ]
  },
  {
   "cell_type": "code",
   "execution_count": 4,
   "metadata": {
    "ExecuteTime": {
     "end_time": "2018-12-07T14:45:24.165125Z",
     "start_time": "2018-12-07T14:45:24.147913Z"
    },
    "collapsed": true
   },
   "outputs": [],
   "source": [
    "# radial to cartesian\n",
    "\n",
    "def radial2cartesian(e,a):\n",
    "    if a < 0:\n",
    "        a = 360 + a\n",
    "    e = 90 + e\n",
    "    a = math.radians(a)\n",
    "    e = math.radians(e)\n",
    "    return np.array([math.sin(e)*math.cos(a), math.sin(e)*math.sin(a), math.cos(e)])"
   ]
  },
  {
   "cell_type": "code",
   "execution_count": 5,
   "metadata": {
    "ExecuteTime": {
     "end_time": "2018-12-07T14:45:25.885061Z",
     "start_time": "2018-12-07T14:45:25.185060Z"
    }
   },
   "outputs": [
    {
     "ename": "ValueError",
     "evalue": "zero-size array to reduction operation maximum which has no identity",
     "output_type": "error",
     "traceback": [
      "\u001b[0;31m---------------------------------------------------------------------------\u001b[0m",
      "\u001b[0;31mValueError\u001b[0m                                Traceback (most recent call last)",
      "\u001b[0;32m<ipython-input-5-56fee7555139>\u001b[0m in \u001b[0;36m<module>\u001b[0;34m()\u001b[0m\n\u001b[1;32m     31\u001b[0m \u001b[0mfig\u001b[0m \u001b[0;34m=\u001b[0m \u001b[0mplt\u001b[0m\u001b[0;34m.\u001b[0m\u001b[0mfigure\u001b[0m\u001b[0;34m(\u001b[0m\u001b[0mfigsize\u001b[0m\u001b[0;34m=\u001b[0m\u001b[0;34m(\u001b[0m\u001b[0;36m20\u001b[0m\u001b[0;34m,\u001b[0m \u001b[0;36m6\u001b[0m\u001b[0;34m)\u001b[0m\u001b[0;34m)\u001b[0m\u001b[0;34m\u001b[0m\u001b[0m\n\u001b[1;32m     32\u001b[0m \u001b[0mplt\u001b[0m\u001b[0;34m.\u001b[0m\u001b[0msubplot\u001b[0m\u001b[0;34m(\u001b[0m\u001b[0;36m151\u001b[0m\u001b[0;34m)\u001b[0m\u001b[0;34m\u001b[0m\u001b[0m\n\u001b[0;32m---> 33\u001b[0;31m \u001b[0mplt\u001b[0m\u001b[0;34m.\u001b[0m\u001b[0mimshow\u001b[0m\u001b[0;34m(\u001b[0m\u001b[0mbeeview_xyz\u001b[0m\u001b[0;34m(\u001b[0m\u001b[0mbee_eye_data\u001b[0m\u001b[0;34m,\u001b[0m \u001b[0moffset\u001b[0m\u001b[0;34m=\u001b[0m\u001b[0;36m0\u001b[0m\u001b[0;34m)\u001b[0m\u001b[0;34m)\u001b[0m\u001b[0;34m\u001b[0m\u001b[0m\n\u001b[0m\u001b[1;32m     34\u001b[0m \u001b[0mplt\u001b[0m\u001b[0;34m.\u001b[0m\u001b[0maxis\u001b[0m\u001b[0;34m(\u001b[0m\u001b[0;34m'off'\u001b[0m\u001b[0;34m)\u001b[0m\u001b[0;34m\u001b[0m\u001b[0m\n\u001b[1;32m     35\u001b[0m \u001b[0mplt\u001b[0m\u001b[0;34m.\u001b[0m\u001b[0mtitle\u001b[0m\u001b[0;34m(\u001b[0m\u001b[0;34mr'$r=x$, $g=y$, $b=z$, offset=0'\u001b[0m\u001b[0;34m)\u001b[0m\u001b[0;34m\u001b[0m\u001b[0m\n",
      "\u001b[0;32m<ipython-input-5-56fee7555139>\u001b[0m in \u001b[0;36mbeeview_xyz\u001b[0;34m(bee_eye_data, offset)\u001b[0m\n\u001b[1;32m      1\u001b[0m \u001b[0;32mdef\u001b[0m \u001b[0mbeeview_xyz\u001b[0m\u001b[0;34m(\u001b[0m\u001b[0mbee_eye_data\u001b[0m\u001b[0;34m,\u001b[0m \u001b[0moffset\u001b[0m \u001b[0;34m=\u001b[0m \u001b[0;36m0\u001b[0m\u001b[0;34m)\u001b[0m\u001b[0;34m:\u001b[0m\u001b[0;34m\u001b[0m\u001b[0m\n\u001b[0;32m----> 2\u001b[0;31m     \u001b[0mx_max\u001b[0m \u001b[0;34m=\u001b[0m \u001b[0mnp\u001b[0m\u001b[0;34m.\u001b[0m\u001b[0mmax\u001b[0m\u001b[0;34m(\u001b[0m\u001b[0mbee_eye_data\u001b[0m\u001b[0;34m[\u001b[0m\u001b[0;34m\"right\"\u001b[0m\u001b[0;34m]\u001b[0m\u001b[0;34m[\u001b[0m\u001b[0;34m\"coordinates\"\u001b[0m\u001b[0;34m]\u001b[0m\u001b[0;34m[\u001b[0m\u001b[0;34m:\u001b[0m\u001b[0;34m,\u001b[0m\u001b[0;36m0\u001b[0m\u001b[0;34m]\u001b[0m\u001b[0;34m)\u001b[0m\u001b[0;34m\u001b[0m\u001b[0m\n\u001b[0m\u001b[1;32m      3\u001b[0m     \u001b[0my_max\u001b[0m \u001b[0;34m=\u001b[0m \u001b[0mnp\u001b[0m\u001b[0;34m.\u001b[0m\u001b[0mmax\u001b[0m\u001b[0;34m(\u001b[0m\u001b[0mbee_eye_data\u001b[0m\u001b[0;34m[\u001b[0m\u001b[0;34m\"right\"\u001b[0m\u001b[0;34m]\u001b[0m\u001b[0;34m[\u001b[0m\u001b[0;34m\"coordinates\"\u001b[0m\u001b[0;34m]\u001b[0m\u001b[0;34m[\u001b[0m\u001b[0;34m:\u001b[0m\u001b[0;34m,\u001b[0m\u001b[0;36m1\u001b[0m\u001b[0;34m]\u001b[0m\u001b[0;34m)\u001b[0m\u001b[0;34m\u001b[0m\u001b[0m\n\u001b[1;32m      4\u001b[0m     \u001b[0me_max\u001b[0m \u001b[0;34m=\u001b[0m \u001b[0mnp\u001b[0m\u001b[0;34m.\u001b[0m\u001b[0mmax\u001b[0m\u001b[0;34m(\u001b[0m\u001b[0;34m[\u001b[0m\u001b[0mbee_eye_data\u001b[0m\u001b[0;34m[\u001b[0m\u001b[0;34m\"left\"\u001b[0m\u001b[0;34m]\u001b[0m\u001b[0;34m[\u001b[0m\u001b[0;34m\"elevation\"\u001b[0m\u001b[0;34m]\u001b[0m\u001b[0;34m,\u001b[0m\u001b[0mbee_eye_data\u001b[0m\u001b[0;34m[\u001b[0m\u001b[0;34m\"right\"\u001b[0m\u001b[0;34m]\u001b[0m\u001b[0;34m[\u001b[0m\u001b[0;34m\"elevation\"\u001b[0m\u001b[0;34m]\u001b[0m\u001b[0;34m]\u001b[0m\u001b[0;34m)\u001b[0m\u001b[0;34m\u001b[0m\u001b[0m\n\u001b[1;32m      5\u001b[0m     \u001b[0me_min\u001b[0m \u001b[0;34m=\u001b[0m \u001b[0mnp\u001b[0m\u001b[0;34m.\u001b[0m\u001b[0mmin\u001b[0m\u001b[0;34m(\u001b[0m\u001b[0;34m[\u001b[0m\u001b[0mbee_eye_data\u001b[0m\u001b[0;34m[\u001b[0m\u001b[0;34m\"left\"\u001b[0m\u001b[0;34m]\u001b[0m\u001b[0;34m[\u001b[0m\u001b[0;34m\"elevation\"\u001b[0m\u001b[0;34m]\u001b[0m\u001b[0;34m,\u001b[0m\u001b[0mbee_eye_data\u001b[0m\u001b[0;34m[\u001b[0m\u001b[0;34m\"right\"\u001b[0m\u001b[0;34m]\u001b[0m\u001b[0;34m[\u001b[0m\u001b[0;34m\"elevation\"\u001b[0m\u001b[0;34m]\u001b[0m\u001b[0;34m]\u001b[0m\u001b[0;34m)\u001b[0m\u001b[0;34m\u001b[0m\u001b[0m\n",
      "\u001b[0;32m~/anaconda3/lib/python3.6/site-packages/numpy/core/fromnumeric.py\u001b[0m in \u001b[0;36mamax\u001b[0;34m(a, axis, out, keepdims, initial)\u001b[0m\n\u001b[1;32m   2332\u001b[0m     \"\"\"\n\u001b[1;32m   2333\u001b[0m     return _wrapreduction(a, np.maximum, 'max', axis, None, out, keepdims=keepdims,\n\u001b[0;32m-> 2334\u001b[0;31m                           initial=initial)\n\u001b[0m\u001b[1;32m   2335\u001b[0m \u001b[0;34m\u001b[0m\u001b[0m\n\u001b[1;32m   2336\u001b[0m \u001b[0;34m\u001b[0m\u001b[0m\n",
      "\u001b[0;32m~/anaconda3/lib/python3.6/site-packages/numpy/core/fromnumeric.py\u001b[0m in \u001b[0;36m_wrapreduction\u001b[0;34m(obj, ufunc, method, axis, dtype, out, **kwargs)\u001b[0m\n\u001b[1;32m     81\u001b[0m                 \u001b[0;32mreturn\u001b[0m \u001b[0mreduction\u001b[0m\u001b[0;34m(\u001b[0m\u001b[0maxis\u001b[0m\u001b[0;34m=\u001b[0m\u001b[0maxis\u001b[0m\u001b[0;34m,\u001b[0m \u001b[0mout\u001b[0m\u001b[0;34m=\u001b[0m\u001b[0mout\u001b[0m\u001b[0;34m,\u001b[0m \u001b[0;34m**\u001b[0m\u001b[0mpasskwargs\u001b[0m\u001b[0;34m)\u001b[0m\u001b[0;34m\u001b[0m\u001b[0m\n\u001b[1;32m     82\u001b[0m \u001b[0;34m\u001b[0m\u001b[0m\n\u001b[0;32m---> 83\u001b[0;31m     \u001b[0;32mreturn\u001b[0m \u001b[0mufunc\u001b[0m\u001b[0;34m.\u001b[0m\u001b[0mreduce\u001b[0m\u001b[0;34m(\u001b[0m\u001b[0mobj\u001b[0m\u001b[0;34m,\u001b[0m \u001b[0maxis\u001b[0m\u001b[0;34m,\u001b[0m \u001b[0mdtype\u001b[0m\u001b[0;34m,\u001b[0m \u001b[0mout\u001b[0m\u001b[0;34m,\u001b[0m \u001b[0;34m**\u001b[0m\u001b[0mpasskwargs\u001b[0m\u001b[0;34m)\u001b[0m\u001b[0;34m\u001b[0m\u001b[0m\n\u001b[0m\u001b[1;32m     84\u001b[0m \u001b[0;34m\u001b[0m\u001b[0m\n\u001b[1;32m     85\u001b[0m \u001b[0;34m\u001b[0m\u001b[0m\n",
      "\u001b[0;31mValueError\u001b[0m: zero-size array to reduction operation maximum which has no identity"
     ]
    },
    {
     "data": {
      "image/png": "[encoded data removed]",
      "text/plain": [
       "<Figure size 1440x432 with 1 Axes>"
      ]
     },
     "metadata": {},
     "output_type": "display_data"
    }
   ],
   "source": [
    "def beeview_xyz(bee_eye_data, offset = 0):\n",
    "    x_max = np.max(bee_eye_data[\"right\"][\"coordinates\"][:,0])\n",
    "    y_max = np.max(bee_eye_data[\"right\"][\"coordinates\"][:,1])\n",
    "    e_max = np.max([bee_eye_data[\"left\"][\"elevation\"],bee_eye_data[\"right\"][\"elevation\"]])\n",
    "    e_min = np.min([bee_eye_data[\"left\"][\"elevation\"],bee_eye_data[\"right\"][\"elevation\"]])\n",
    "    a_max = np.max([bee_eye_data[\"left\"][\"azimuth\"],bee_eye_data[\"right\"][\"azimuth\"]])\n",
    "    a_min = np.min([bee_eye_data[\"left\"][\"azimuth\"],bee_eye_data[\"right\"][\"azimuth\"]])\n",
    "    \n",
    "    img = np.zeros((int(y_max)+4,int(x_max)+4,3))\n",
    "\n",
    "    for eye in [bee_eye_data[\"left\"], bee_eye_data[\"right\"]]:\n",
    "        ommatidium = 0\n",
    "        for coordinate in eye[\"coordinates\"]:\n",
    "            coordinate = coordinate.astype(int)\n",
    "            for i in [0,1]:\n",
    "                x = radial2cartesian(eye[\"elevation\"][ommatidium], eye[\"azimuth\"][ommatidium])\n",
    "                #print(x)\n",
    "                r = x[1] + offset\n",
    "                g = x[2] + offset\n",
    "                b = x[0] + offset\n",
    "                \n",
    "                for j in [0,1]:\n",
    "                    img[coordinate[1]+i,coordinate[0]+j,0] = r\n",
    "                    img[coordinate[1]+i,coordinate[0]+j,1] = g\n",
    "                    img[coordinate[1]+i,coordinate[0]+j,2] = b\n",
    "            ommatidium += 1\n",
    "        \n",
    "    return img\n",
    "\n",
    "\n",
    "fig = plt.figure(figsize=(20, 6))\n",
    "plt.subplot(151)\n",
    "plt.imshow(beeview_xyz(bee_eye_data, offset=0))\n",
    "plt.axis('off')\n",
    "plt.title(r'$r=x$, $g=y$, $b=z$, offset=0')\n",
    "\n",
    "plt.subplot(152)\n",
    "plt.imshow(beeview_xyz(bee_eye_data, offset=0.25))\n",
    "plt.axis('off')\n",
    "plt.title(r'$r=x$, $g=y$, $b=z$, offset=0.25')\n",
    "\n",
    "plt.subplot(153)\n",
    "plt.imshow(beeview_xyz(bee_eye_data, offset=0.5))\n",
    "plt.axis('off')\n",
    "plt.title(r'$r=x$, $g=y$, $b=z$, offset=0.5')\n",
    "\n",
    "plt.subplot(154)\n",
    "plt.imshow(beeview_xyz(bee_eye_data, offset=0.75))\n",
    "plt.axis('off')\n",
    "plt.title(r'$r=x$, $g=y$, $b=z$, offset=0.75')\n",
    "\n",
    "plt.subplot(155)\n",
    "plt.imshow(beeview_xyz(bee_eye_data, offset=1))\n",
    "plt.axis('off')\n",
    "plt.title(r'$r=x$, $g=y$, $b=z$, offset=1')\n",
    "\n",
    "plt.show()\n",
    "\n",
    "\n",
    "plt.imshow(beeview_xyz(bee_eye_data, offset=0.5))\n",
    "plt.axis('off')\n",
    "plt.title(r'$r=x$, $g=y$, $b=z$, offset=0.5')\n",
    "plt.show()"
   ]
  },
  {
   "cell_type": "code",
   "execution_count": null,
   "metadata": {
    "collapsed": true
   },
   "outputs": [],
   "source": [
    "def abs_degrees(e,a):\n",
    "    if e < 0:\n",
    "        e += 180\n",
    "    if a < 0:\n",
    "        a += 360"
   ]
  },
  {
   "cell_type": "code",
   "execution_count": null,
   "metadata": {
    "collapsed": true
   },
   "outputs": [],
   "source": [
    "def normalize(x, x_min, x_max):\n",
    "    return (x - x_min) / (x_max - x_min)"
   ]
  },
  {
   "cell_type": "code",
   "execution_count": null,
   "metadata": {
    "collapsed": true
   },
   "outputs": [],
   "source": [
    "def normalize2(x, x_min, x_max, new_min, new_max):\n",
    "    return (new_max-new_min)/(x_max-x_min)*(x-x_min)+new_min"
   ]
  },
  {
   "cell_type": "code",
   "execution_count": null,
   "metadata": {
    "collapsed": true
   },
   "outputs": [],
   "source": [
    " \n",
    "    \n",
    "def beeview_uv(bee_eye_data,  y = 0):\n",
    "    \n",
    "    x_max = np.max(bee_eye_data[\"right\"][\"coordinates\"][:,0])\n",
    "    y_max = np.max(bee_eye_data[\"right\"][\"coordinates\"][:,1])\n",
    "    e_max = np.max([left_eye[\"elevation\"],right_eye[\"elevation\"]])\n",
    "    e_min = np.min([left_eye[\"elevation\"],right_eye[\"elevation\"]])\n",
    "    a_max = np.max([left_eye[\"azimuth\"],right_eye[\"azimuth\"]])\n",
    "    a_min = np.min([left_eye[\"azimuth\"],right_eye[\"azimuth\"]])\n",
    "    \n",
    "    img = np.zeros((int(y_max)+4,int(x_max)+4,3))\n",
    "\n",
    "    for eye in [bee_eye_data[\"left\"], bee_eye_data[\"right\"]]:\n",
    "        ommatidium = 0\n",
    "        for coordinate in eye[\"coordinates\"]:\n",
    "            coordinate = coordinate.astype(int)\n",
    "            for i in [0,1]:\n",
    "                v = normalize2(eye[\"elevation\"][ommatidium], e_min, e_max,-1,1)\n",
    "                u = normalize2(eye[\"azimuth\"][ommatidium], a_min, a_max,-1,1)\n",
    "\n",
    "                b = y + (u/0.493)\n",
    "                r = y + (v/0.877)\n",
    "                g = 1.704*y - 0.509*r - 0.194*b\n",
    "\n",
    "                for j in [0,1]:\n",
    "                    img[coordinate[1]+i,coordinate[0]+j,0] = r\n",
    "                    img[coordinate[1]+i,coordinate[0]+j,1] = g\n",
    "                    img[coordinate[1]+i,coordinate[0]+j,2] = b\n",
    "            ommatidium += 1\n",
    "        \n",
    "    return img\n",
    "\n",
    "fig = plt.figure(figsize=(20, 6))\n",
    "plt.subplot(151)\n",
    "plt.imshow(beeview_uv(bee_eye_data,y=0))\n",
    "plt.axis('off')\n",
    "plt.title(r'$Y=0$, $U=\\alpha$, $V=\\epsilon$')\n",
    "plt.subplot(152)\n",
    "plt.imshow(beeview_uv(bee_eye_data, y = 0.25))\n",
    "plt.title(r'$Y=0.25$, $U=\\alpha$, $V=\\epsilon$')\n",
    "plt.axis('off')\n",
    "plt.subplot(153)\n",
    "plt.imshow(beeview_uv(bee_eye_data, y= 0.5))\n",
    "plt.title(r'$Y=0.5$, $U=\\alpha$, $V=\\epsilon$')\n",
    "plt.axis('off')\n",
    "plt.subplot(154)\n",
    "plt.imshow(beeview_uv(bee_eye_data, y= 0.75))\n",
    "plt.title(r'$Y=0.75$, $U=\\alpha$, $V=\\epsilon$')\n",
    "plt.axis('off')\n",
    "\n",
    "plt.subplot(155)\n",
    "plt.imshow(beeview_uv(bee_eye_data, y= 1))\n",
    "plt.title(r'$Y=1$, $U=\\alpha$, $V=\\epsilon$')\n",
    "plt.axis('off')\n",
    "\n",
    "plt.show()"
   ]
  },
  {
   "cell_type": "code",
   "execution_count": null,
   "metadata": {
    "collapsed": true
   },
   "outputs": [],
   "source": [
    "plt.imshow(beeview_uv(bee_eye_data, y= 0.5))\n",
    "plt.title(r'$Y=0.5$, $U=\\alpha$, $V=\\epsilon$')\n",
    "plt.axis('off')"
   ]
  },
  {
   "cell_type": "code",
   "execution_count": null,
   "metadata": {
    "collapsed": true
   },
   "outputs": [],
   "source": [
    "x_max = np.max(bee_eye_data[\"right\"][\"coordinates\"][:,0])\n",
    "y_max = np.max(bee_eye_data[\"right\"][\"coordinates\"][:,1])\n",
    "img = np.zeros((int(y_max)+4,int(x_max)+4,3))\n",
    "for eye in [bee_eye_data[\"left\"],bee_eye_data[\"right\"]]:\n",
    "    ommatidium = 0\n",
    "    for coordinate in eye[\"coordinates\"]:\n",
    "        coordinate = coordinate.astype(int)\n",
    "        for i in [0,1]:\n",
    "            for j in [0,1]:\n",
    "                img[coordinate[1]+i,coordinate[0]+j,0] = eye[\"color\"][ommatidium,0]\n",
    "                img[coordinate[1]+i,coordinate[0]+j,1] = eye[\"color\"][ommatidium,1]\n",
    "                img[coordinate[1]+i,coordinate[0]+j,2] = eye[\"color\"][ommatidium,2]\n",
    "        ommatidium += 1\n",
    "plt.imshow(img)"
   ]
  },
  {
   "cell_type": "code",
   "execution_count": null,
   "metadata": {
    "collapsed": true
   },
   "outputs": [],
   "source": []
  }
 ],
 "metadata": {
  "kernelspec": {
   "display_name": "Python 3",
   "language": "python",
   "name": "python3"
  },
  "language_info": {
   "codemirror_mode": {
    "name": "ipython",
    "version": 3
   },
   "file_extension": ".py",
   "mimetype": "text/x-python",
   "name": "python",
   "nbconvert_exporter": "python",
   "pygments_lexer": "ipython3",
   "version": "3.6.2"
  },
  "varInspector": {
   "cols": {
    "lenName": 16,
    "lenType": 16,
    "lenVar": 40
   },
   "kernels_config": {
    "python": {
     "delete_cmd_postfix": "",
     "delete_cmd_prefix": "del ",
     "library": "var_list.py",
     "varRefreshCmd": "print(var_dic_list())"
    },
    "r": {
     "delete_cmd_postfix": ") ",
     "delete_cmd_prefix": "rm(",
     "library": "var_list.r",
     "varRefreshCmd": "cat(var_dic_list()) "
    }
   },
   "types_to_exclude": [
    "module",
    "function",
    "builtin_function_or_method",
    "instance",
    "_Feature"
   ],
   "window_display": false
  }
 },
 "nbformat": 4,
 "nbformat_minor": 2
}
