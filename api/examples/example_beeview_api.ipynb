{
 "cells": [
  {
   "cell_type": "code",
   "execution_count": null,
   "metadata": {},
   "outputs": [],
   "source": [
    "# %load example_beeview_api\n",
    "import beeview\n",
    "from PIL import Image\n",
    "import matplotlib.pyplot as plt\n",
    "\n",
    "# an example scene and interommatidial angles file are in the data folder\n",
    "renderer = beeview.Renderer(\"..\\..\\data\\hessen_2016\\scene.obj\",\n",
    "                            \"..\\..\\data\\ommatidia.csv\",left_handed = True)\n",
    "\n",
    "renderer.position = [0,-85,0]\n",
    "renderer.direction = [0,0,-1]\n",
    "img = renderer.render()\n",
    "\n",
    "# plot hte image\n",
    "plt.imshow(img)\n",
    "plt.show()\n",
    "\n",
    "# save the image\n",
    "img = Image.fromarray(img)\n",
    "img.save(\"beeview.png\")\n",
    "\n",
    "# change some render parameters\n",
    "renderer.set_num_samples(56)\n",
    "renderer.set_acceptance_angle(5.2)\n",
    "renderer.set_ommatidium_size(8)\n",
    "\n",
    "# and render + plot\n",
    "renderer.mode = renderer.BeeEye\n",
    "img = renderer.render()\n",
    "plt.imshow(img)\n",
    "plt.show()\n",
    "\n",
    "# change the render mode, and render a panorama\n",
    "renderer.mode = renderer.Panoramic\n",
    "renderer.set_panoramic_hfov(200)\n",
    "renderer.set_panoramic_vfov(90)\n",
    "renderer.set_panoramic_width(800)\n",
    "\n",
    "img = renderer.render()\n",
    "plt.imshow(img)\n",
    "plt.show()\n",
    "\n",
    "# pinhole mode\n",
    "renderer.mode = renderer.Pinhole\n",
    "renderer.set_pinhole_fov(55)\n",
    "renderer.set_pinhole_width(800)\n",
    "renderer.set_pinhole_height(600)\n",
    "\n",
    "img = renderer.render()\n",
    "plt.imshow(img)\n",
    "plt.show()\n",
    "\n",
    "# measure distance from renderer to next object straight down\n",
    "dist = renderer.measure_distance(renderer.position, [0,-1,0])\n",
    "print(dist)"
   ]
  },
  {
   "cell_type": "code",
   "execution_count": null,
   "metadata": {
    "collapsed": true
   },
   "outputs": [],
   "source": []
  }
 ],
 "metadata": {
  "kernelspec": {
   "display_name": "Python 3",
   "language": "python",
   "name": "python3"
  },
  "language_info": {
   "codemirror_mode": {
    "name": "ipython",
    "version": 3
   },
   "file_extension": ".py",
   "mimetype": "text/x-python",
   "name": "python",
   "nbconvert_exporter": "python",
   "pygments_lexer": "ipython3",
   "version": "3.6.1"
  }
 },
 "nbformat": 4,
 "nbformat_minor": 2
}
