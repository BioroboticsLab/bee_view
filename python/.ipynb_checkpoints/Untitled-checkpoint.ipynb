{
 "cells": [
  {
   "cell_type": "code",
   "execution_count": null,
   "metadata": {
    "collapsed": true
   },
   "outputs": [],
   "source": [
    "import beeview\n",
    "import numpy as np\n",
    "from PIL import Image\n",
    "from pprint import pprint\n",
    "\n",
    "scene = \"D:\\\\Documents\\\\bachelorarbeit\\\\raytracing\\\\beeView\\\\models\\\\hessen\\\\skydome_minus_z_forward.obj\";\n",
    "ommatidia = \"D:\\\\Documents\\\\bachelorarbeit\\\\bee_view\\\\data\\\\ommatidia.csv\";\n",
    "\n",
    "bee_view_api = beeview.API(scene, ommatidia)\n",
    "pos = [0,-70,0]\n",
    "bee_view_api.set_camera_position(pos)\n",
    "dir = [0,0,1]\n",
    "bee_view_api.set_camera_dir(dir)"
   ]
  }
 ],
 "metadata": {
  "kernelspec": {
   "display_name": "Python 3",
   "language": "python",
   "name": "python3"
  },
  "language_info": {
   "codemirror_mode": {
    "name": "ipython",
    "version": 3
   },
   "file_extension": ".py",
   "mimetype": "text/x-python",
   "name": "python",
   "nbconvert_exporter": "python",
   "pygments_lexer": "ipython3",
   "version": "3.6.1"
  }
 },
 "nbformat": 4,
 "nbformat_minor": 2
}
