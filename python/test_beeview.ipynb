{
 "cells": [
  {
   "cell_type": "code",
   "execution_count": 3,
   "metadata": {
    "collapsed": true
   },
   "outputs": [],
   "source": [
    "import beeview\n",
    "import numpy as np\n",
    "from PIL import Image\n",
    "from pprint import pprint\n",
    "\n",
    "scene = \"D:\\\\Documents\\\\bachelorarbeit\\\\bee_view\\\\data\\\\sky_white\\\\skydome_white.obj\";\n",
    "ommatidia = \"D:\\\\Documents\\\\bachelorarbeit\\\\bee_view\\\\data\\\\ommatidia.csv\";\n",
    "\n",
    "# TODO: rename API Context\n",
    "bee_view_api = beeview.API(scene, ommatidia, True)\n",
    "\n",
    "bee_view_api.set_render_mode_pinhole()\n"
   ]
  },
  {
   "cell_type": "code",
   "execution_count": 4,
   "metadata": {
    "collapsed": true
   },
   "outputs": [],
   "source": [
    "pos = [0,-70,0]\n",
    "bee_view_api.set_camera_position(pos)\n",
    "dir = [0,0,-1]\n",
    "bee_view_api.set_camera_dir(dir)\n",
    "im = bee_view_api.render()\n",
    "im.save('test5.ppm')\n",
    "\n",
    "pos = [0,-70,30]\n",
    "bee_view_api.set_camera_position(pos)\n",
    "im = bee_view_api.render()\n",
    "im.save('test6.ppm')\n",
    "\n",
    "pos = [30,-70,30]\n",
    "bee_view_api.set_camera_position(pos)\n",
    "im = bee_view_api.render()\n",
    "im.save('test7.ppm')"
   ]
  },
  {
   "cell_type": "code",
   "execution_count": 5,
   "metadata": {
    "collapsed": true
   },
   "outputs": [],
   "source": [
    "\"\"\"\n",
    "for -z_forward obj: x = x, y = -z\n",
    "for z_forward obj: x = -x, y = z\n",
    "\"\"\"\n",
    "# radar position\n",
    "pos = [-549.32727,-95,-250.66711]\n",
    "bee_view_api.set_camera_position(pos)\n"
   ]
  },
  {
   "cell_type": "code",
   "execution_count": 6,
   "metadata": {
    "collapsed": true
   },
   "outputs": [],
   "source": [
    "dir = [-1,0,0]\n",
    "bee_view_api.set_camera_dir(dir)\n",
    "im = bee_view_api.render()\n",
    "im.save('test1.ppm')\n",
    "\n",
    "dir = [-1,0,1]\n",
    "bee_view_api.set_camera_dir(dir)\n",
    "im = bee_view_api.render()\n",
    "im.save('test2.ppm')\n",
    "\n",
    "dir = [0,0,1]\n",
    "bee_view_api.set_camera_dir(dir)\n",
    "im = bee_view_api.render()\n",
    "im.save('test3.ppm')\n",
    "\n",
    "dir = [1,0,1]\n",
    "bee_view_api.set_camera_dir(dir)\n",
    "im = bee_view_api.render()\n",
    "im.save('test4.ppm')\n",
    "\n",
    "dir = [1,0,0]\n",
    "bee_view_api.set_camera_dir(dir)\n",
    "im = bee_view_api.render()\n",
    "im.save('test5.ppm')\n",
    "\n",
    "dir = [1,0,-1]\n",
    "bee_view_api.set_camera_dir(dir)\n",
    "im = bee_view_api.render()\n",
    "im.save('test6.ppm')\n",
    "\n",
    "dir = [0,0,-1]\n",
    "bee_view_api.set_camera_dir(dir)\n",
    "im = bee_view_api.render()\n",
    "im.save('test7.ppm')\n",
    "\n",
    "dir = [-1,0,-1]\n",
    "bee_view_api.set_camera_dir(dir)\n",
    "im = bee_view_api.render()\n",
    "im.save('test8.ppm')"
   ]
  },
  {
   "cell_type": "code",
   "execution_count": null,
   "metadata": {
    "collapsed": true
   },
   "outputs": [],
   "source": []
  },
  {
   "cell_type": "code",
   "execution_count": null,
   "metadata": {
    "collapsed": true
   },
   "outputs": [],
   "source": []
  }
 ],
 "metadata": {
  "kernelspec": {
   "display_name": "Python 3",
   "language": "python",
   "name": "python3"
  },
  "language_info": {
   "codemirror_mode": {
    "name": "ipython",
    "version": 3
   },
   "file_extension": ".py",
   "mimetype": "text/x-python",
   "name": "python",
   "nbconvert_exporter": "python",
   "pygments_lexer": "ipython3",
   "version": "3.6.1"
  }
 },
 "nbformat": 4,
 "nbformat_minor": 2
}
